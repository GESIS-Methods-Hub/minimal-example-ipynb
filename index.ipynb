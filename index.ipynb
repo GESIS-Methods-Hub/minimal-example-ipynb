{
 "cells": [
  {
   "cell_type": "raw",
   "id": "6a68545b-f14c-46af-8fd5-3a303710ddd2",
   "metadata": {},
   "source": [
    "---\n",
    "title: \"Minimal Example of Tutorial in Jupyter Notebook\"\n",
    "author: Raniere Silva\n",
    "image: img/cover.jpg\n",
    "image-alt: Illustration of Jupyter and its moons.\n",
    "bibliography: references.bib\n",
    "---"
   ]
  },
  {
   "cell_type": "markdown",
   "id": "be35f2aa-c8e8-4c9a-9375-8ab72b5e33a4",
   "metadata": {},
   "source": [
    "This example illustrates all the **required** metadata used by [`andrew`](https://github.com/GESIS-Methods-Hub/andrew) for a tutorial written as a Jupyter Notebook [@jupyter2021]."
   ]
  },
  {
   "cell_type": "markdown",
   "id": "9e5f4726-af4a-4eb7-8e41-ae841424521d",
   "metadata": {},
   "source": [
    "::: {.callout-important}\n",
    "\n",
    "We recommend to install and use [Quarto JupyterLab Extension](https://quarto.org/docs/tools/jupyter-lab-extension.html) for a preview of the content closer to the final output.\n",
    "\n",
    ":::"
   ]
  },
  {
   "cell_type": "markdown",
   "id": "2c7a5f0e-53f0-4b8a-ac1e-ad975eefbb5b",
   "metadata": {},
   "source": [
    "## References\n",
    "\n",
    "::: {#refs}\n",
    ":::"
   ]
  }
 ],
 "metadata": {
  "kernelspec": {
   "display_name": "Python 3 (ipykernel)",
   "language": "python",
   "name": "python3"
  },
  "language_info": {
   "codemirror_mode": {
    "name": "ipython",
    "version": 3
   },
   "file_extension": ".py",
   "mimetype": "text/x-python",
   "name": "python",
   "nbconvert_exporter": "python",
   "pygments_lexer": "ipython3",
   "version": "3.10.6"
  }
 },
 "nbformat": 4,
 "nbformat_minor": 5
}
